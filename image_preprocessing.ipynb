{
 "cells": [
  {
   "cell_type": "markdown",
   "metadata": {
    "colab_type": "text",
    "id": "Z5FDRhEUfxn3"
   },
   "source": [
    "\n",
    "Copyright 2018 Google Inc.\n",
    "\n",
    "Licensed under the Apache License, Version 2.0 (the \"License\"); you may not use this file except in compliance with the License. You may obtain a copy of the License at\n",
    "\n",
    "> https://www.apache.org/licenses/LICENSE-2.0\n",
    "\n",
    "Unless required by applicable law or agreed to in writing, software distributed under the License is distributed on an \"AS IS\" BASIS, WITHOUT WARRANTIES OR CONDITIONS OF ANY KIND, either express or implied. See the License for the specific language governing permissions and limitations under the License."
   ]
  },
  {
   "cell_type": "markdown",
   "metadata": {
    "colab_type": "text",
    "id": "3DdgocStf_61"
   },
   "source": [
    "# Image Preprocessing\n",
    "\n",
    "In this tutorial, we are going to use the [Pillow python lirbrary](https://pillow.readthedocs.io/en/5.1.x/) to show how to apply basic transformations on images. You can safely skip this tutorial if you are already familiar with Pillow."
   ]
  },
  {
   "cell_type": "markdown",
   "metadata": {
    "colab_type": "text",
    "id": "vMWi70VigmN3"
   },
   "source": [
    "First of all, let's import all the libraries we need."
   ]
  },
  {
   "cell_type": "code",
   "execution_count": 1,
   "metadata": {
    "colab": {
     "autoexec": {
      "startup": false,
      "wait_interval": 0
     },
     "base_uri": "https://localhost:8080/",
     "height": 17
    },
    "colab_type": "code",
    "executionInfo": {
     "elapsed": 554,
     "status": "ok",
     "timestamp": 1529607392583,
     "user": {
      "displayName": "Jie Fan",
      "photoUrl": "//lh4.googleusercontent.com/-geDEcPJTfKo/AAAAAAAAAAI/AAAAAAAAACw/JdrMykxPN5o/s50-c-k-no/photo.jpg",
      "userId": "104480808619944829617"
     },
     "user_tz": 240
    },
    "id": "oguRARzJgraZ",
    "outputId": "bde4a787-623b-4d0c-93c0-1c2e1610db53"
   },
   "outputs": [
    {
     "ename": "ModuleNotFoundError",
     "evalue": "No module named 'google.colab'",
     "output_type": "error",
     "traceback": [
      "\u001b[0;31m---------------------------------------------------------------------------\u001b[0m",
      "\u001b[0;31mModuleNotFoundError\u001b[0m                       Traceback (most recent call last)",
      "\u001b[0;32m<ipython-input-1-01d8cc0b9f8b>\u001b[0m in \u001b[0;36m<module>\u001b[0;34m()\u001b[0m\n\u001b[0;32m----> 1\u001b[0;31m \u001b[0;32mfrom\u001b[0m \u001b[0mgoogle\u001b[0m\u001b[0;34m.\u001b[0m\u001b[0mcolab\u001b[0m \u001b[0;32mimport\u001b[0m \u001b[0mfiles\u001b[0m\u001b[0;34m\u001b[0m\u001b[0m\n\u001b[0m\u001b[1;32m      2\u001b[0m \u001b[0;32mfrom\u001b[0m \u001b[0mio\u001b[0m \u001b[0;32mimport\u001b[0m \u001b[0mBytesIO\u001b[0m\u001b[0;34m\u001b[0m\u001b[0m\n\u001b[1;32m      3\u001b[0m \u001b[0;31m# Display images.\u001b[0m\u001b[0;34m\u001b[0m\u001b[0;34m\u001b[0m\u001b[0m\n\u001b[1;32m      4\u001b[0m \u001b[0;32mfrom\u001b[0m \u001b[0mIPython\u001b[0m\u001b[0;34m.\u001b[0m\u001b[0mdisplay\u001b[0m \u001b[0;32mimport\u001b[0m \u001b[0mdisplay\u001b[0m\u001b[0;34m\u001b[0m\u001b[0m\n\u001b[1;32m      5\u001b[0m \u001b[0;32mfrom\u001b[0m \u001b[0mPIL\u001b[0m \u001b[0;32mimport\u001b[0m \u001b[0mImage\u001b[0m\u001b[0;34m,\u001b[0m \u001b[0mImageEnhance\u001b[0m\u001b[0;34m\u001b[0m\u001b[0m\n",
      "\u001b[0;31mModuleNotFoundError\u001b[0m: No module named 'google.colab'"
     ]
    }
   ],
   "source": [
    "from google.colab import files\n",
    "from io import BytesIO\n",
    "# Display images.\n",
    "from IPython.display import display\n",
    "from PIL import Image, ImageEnhance"
   ]
  },
  {
   "cell_type": "markdown",
   "metadata": {
    "colab_type": "text",
    "id": "VzlKSDlXg2Yb"
   },
   "source": [
    "Next, let's upload a PNG image which we will apply all kinds of transformations on, and resize it to 500x500."
   ]
  },
  {
   "cell_type": "code",
   "execution_count": null,
   "metadata": {
    "colab": {
     "autoexec": {
      "startup": false,
      "wait_interval": 0
     }
    },
    "colab_type": "code",
    "id": "BOyg9qB3g1Vt"
   },
   "outputs": [],
   "source": [
    "# Please assign the real file name of the image to image_name.\n",
    "image_name = ''\n",
    "\n",
    "uploaded_files = files.upload()\n",
    "\n",
    "size = (500, 500) # (width, height)\n",
    "image = Image.open(BytesIO(uploaded_files[image_name])).resize(size)\n",
    "\n",
    "display(image)"
   ]
  },
  {
   "cell_type": "markdown",
   "metadata": {
    "colab_type": "text",
    "id": "1i5TdJN-h8vg"
   },
   "source": [
    "Now that we have the image uploaded, let's try rotate the image by 90 degrees cunter-clockwise."
   ]
  },
  {
   "cell_type": "code",
   "execution_count": null,
   "metadata": {
    "colab": {
     "autoexec": {
      "startup": false,
      "wait_interval": 0
     }
    },
    "colab_type": "code",
    "id": "y8DWcmkViFTL"
   },
   "outputs": [],
   "source": [
    "image = image.transpose(Image.ROTATE_90)\n",
    "\n",
    "\n",
    "display(image)"
   ]
  },
  {
   "cell_type": "markdown",
   "metadata": {
    "colab_type": "text",
    "id": "_WGQeeIfnGjv"
   },
   "source": [
    "Now let's flip the image horizontally."
   ]
  },
  {
   "cell_type": "code",
   "execution_count": null,
   "metadata": {
    "colab": {
     "autoexec": {
      "startup": false,
      "wait_interval": 0
     }
    },
    "colab_type": "code",
    "id": "7Ipoi7qUnpzG"
   },
   "outputs": [],
   "source": [
    "image = image.transpose(Image.FLIP_LEFT_RIGHT)\n",
    "\n",
    "display(image)"
   ]
  },
  {
   "cell_type": "markdown",
   "metadata": {
    "colab_type": "text",
    "id": "V6YBqaCRpuaC"
   },
   "source": [
    "As a next step, let's adjust the contrast of the image. The base value is 1 and here we are increasing it by 20%."
   ]
  },
  {
   "cell_type": "code",
   "execution_count": null,
   "metadata": {
    "colab": {
     "autoexec": {
      "startup": false,
      "wait_interval": 0
     }
    },
    "colab_type": "code",
    "id": "27Gs_k5Zp78X"
   },
   "outputs": [],
   "source": [
    "contrast = ImageEnhance.Contrast(image)\n",
    "image = contrast.enhance(1.2)\n",
    "\n",
    "display(image)"
   ]
  },
  {
   "cell_type": "markdown",
   "metadata": {
    "colab_type": "text",
    "id": "5m_WO1rVqaxb"
   },
   "source": [
    "And brightness and sharpness."
   ]
  },
  {
   "cell_type": "code",
   "execution_count": null,
   "metadata": {
    "colab": {
     "autoexec": {
      "startup": false,
      "wait_interval": 0
     }
    },
    "colab_type": "code",
    "id": "s5YB4rjWqiMJ"
   },
   "outputs": [],
   "source": [
    "brightness = ImageEnhance.Brightness(image)\n",
    "image = brightness.enhance(1.1)\n",
    "\n",
    "display(image)"
   ]
  },
  {
   "cell_type": "code",
   "execution_count": null,
   "metadata": {
    "colab": {
     "autoexec": {
      "startup": false,
      "wait_interval": 0
     }
    },
    "colab_type": "code",
    "id": "XdS_Gdkzq2w6"
   },
   "outputs": [],
   "source": [
    "sharpness = ImageEnhance.Sharpness(image)\n",
    "image = sharpness.enhance(1.2)\n",
    "\n",
    "display(image)"
   ]
  },
  {
   "cell_type": "markdown",
   "metadata": {
    "colab_type": "text",
    "id": "djc4oiIFtkKO"
   },
   "source": [
    "There are a whole lot more transformations we can make on images, please take a look at the [official documentation](https://pillow.readthedocs.io/en/5.1.x/) if you'd like to know more."
   ]
  }
 ],
 "metadata": {
  "colab": {
   "default_view": {},
   "name": "Image Preprocessing Tutorial",
   "provenance": [],
   "version": "0.3.2",
   "views": {}
  },
  "kernelspec": {
   "display_name": "Python 3",
   "language": "python",
   "name": "python3"
  },
  "language_info": {
   "codemirror_mode": {
    "name": "ipython",
    "version": 3
   },
   "file_extension": ".py",
   "mimetype": "text/x-python",
   "name": "python",
   "nbconvert_exporter": "python",
   "pygments_lexer": "ipython3",
   "version": "3.6.5"
  }
 },
 "nbformat": 4,
 "nbformat_minor": 2
}
