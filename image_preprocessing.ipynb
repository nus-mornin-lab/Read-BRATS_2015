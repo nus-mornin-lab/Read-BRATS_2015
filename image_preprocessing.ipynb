{
  "nbformat": 4,
  "nbformat_minor": 0,
  "metadata": {
    "colab": {
      "name": "Image Preprocessing Tutorial",
      "version": "0.3.2",
      "views": {},
      "default_view": {},
      "provenance": []
    },
    "kernelspec": {
      "name": "python2",
      "display_name": "Python 2"
    }
  },
  "cells": [
    {
      "metadata": {
        "id": "Z5FDRhEUfxn3",
        "colab_type": "text"
      },
      "cell_type": "markdown",
      "source": [
        "\n",
        "Copyright 2018 Google Inc.\n",
        "\n",
        "Licensed under the Apache License, Version 2.0 (the \"License\"); you may not use this file except in compliance with the License. You may obtain a copy of the License at\n",
        "\n",
        "> https://www.apache.org/licenses/LICENSE-2.0\n",
        "\n",
        "Unless required by applicable law or agreed to in writing, software distributed under the License is distributed on an \"AS IS\" BASIS, WITHOUT WARRANTIES OR CONDITIONS OF ANY KIND, either express or implied. See the License for the specific language governing permissions and limitations under the License."
      ]
    },
    {
      "metadata": {
        "id": "3DdgocStf_61",
        "colab_type": "text"
      },
      "cell_type": "markdown",
      "source": [
        "# Image Preprocessing\n",
        "\n",
        "In this tutorial, we are going to use the [Pillow python lirbrary](https://pillow.readthedocs.io/en/5.1.x/) to show how to apply basic transformations on images. You can safely skip this tutorial if you are already familiar with Pillow."
      ]
    },
    {
      "metadata": {
        "id": "vMWi70VigmN3",
        "colab_type": "text"
      },
      "cell_type": "markdown",
      "source": [
        "First of all, let's import all the libraries we need."
      ]
    },
    {
      "metadata": {
        "id": "oguRARzJgraZ",
        "colab_type": "code",
        "colab": {
          "autoexec": {
            "startup": false,
            "wait_interval": 0
          },
          "base_uri": "https://localhost:8080/",
          "height": 17
        },
        "outputId": "bde4a787-623b-4d0c-93c0-1c2e1610db53",
        "executionInfo": {
          "status": "ok",
          "timestamp": 1529607392583,
          "user_tz": 240,
          "elapsed": 554,
          "user": {
            "displayName": "Jie Fan",
            "photoUrl": "//lh4.googleusercontent.com/-geDEcPJTfKo/AAAAAAAAAAI/AAAAAAAAACw/JdrMykxPN5o/s50-c-k-no/photo.jpg",
            "userId": "104480808619944829617"
          }
        }
      },
      "cell_type": "code",
      "source": [
        "from google.colab import files\n",
        "from io import BytesIO\n",
        "# Display images.\n",
        "from IPython.display import display\n",
        "from PIL import Image, ImageEnhance"
      ],
      "execution_count": 44,
      "outputs": []
    },
    {
      "metadata": {
        "id": "VzlKSDlXg2Yb",
        "colab_type": "text"
      },
      "cell_type": "markdown",
      "source": [
        "Next, let's upload a PNG image which we will apply all kinds of transformations on, and resize it to 500x500."
      ]
    },
    {
      "metadata": {
        "id": "BOyg9qB3g1Vt",
        "colab_type": "code",
        "colab": {
          "autoexec": {
            "startup": false,
            "wait_interval": 0
          }
        }
      },
      "cell_type": "code",
      "source": [
        "# Please assign the real file name of the image to image_name.\n",
        "image_name = ''\n",
        "\n",
        "uploaded_files = files.upload()\n",
        "\n",
        "size = (500, 500) # (width, height)\n",
        "image = Image.open(BytesIO(uploaded_files[image_name])).resize(size)\n",
        "\n",
        "display(image)"
      ],
      "execution_count": 0,
      "outputs": []
    },
    {
      "metadata": {
        "id": "1i5TdJN-h8vg",
        "colab_type": "text"
      },
      "cell_type": "markdown",
      "source": [
        "Now that we have the image uploaded, let's try rotate the image by 90 degrees cunter-clockwise."
      ]
    },
    {
      "metadata": {
        "id": "y8DWcmkViFTL",
        "colab_type": "code",
        "colab": {
          "autoexec": {
            "startup": false,
            "wait_interval": 0
          }
        }
      },
      "cell_type": "code",
      "source": [
        "image = image.transpose(Image.ROTATE_90)\n",
        "\n",
        "\n",
        "display(image)"
      ],
      "execution_count": 0,
      "outputs": []
    },
    {
      "metadata": {
        "id": "_WGQeeIfnGjv",
        "colab_type": "text"
      },
      "cell_type": "markdown",
      "source": [
        "Now let's flip the image horizontally."
      ]
    },
    {
      "metadata": {
        "id": "7Ipoi7qUnpzG",
        "colab_type": "code",
        "colab": {
          "autoexec": {
            "startup": false,
            "wait_interval": 0
          }
        }
      },
      "cell_type": "code",
      "source": [
        "image = image.transpose(Image.FLIP_LEFT_RIGHT)\n",
        "\n",
        "display(image)"
      ],
      "execution_count": 0,
      "outputs": []
    },
    {
      "metadata": {
        "id": "V6YBqaCRpuaC",
        "colab_type": "text"
      },
      "cell_type": "markdown",
      "source": [
        "As a next step, let's adjust the contrast of the image. The base value is 1 and here we are increasing it by 20%."
      ]
    },
    {
      "metadata": {
        "id": "27Gs_k5Zp78X",
        "colab_type": "code",
        "colab": {
          "autoexec": {
            "startup": false,
            "wait_interval": 0
          }
        }
      },
      "cell_type": "code",
      "source": [
        "contrast = ImageEnhance.Contrast(image)\n",
        "image = contrast.enhance(1.2)\n",
        "\n",
        "display(image)"
      ],
      "execution_count": 0,
      "outputs": []
    },
    {
      "metadata": {
        "id": "5m_WO1rVqaxb",
        "colab_type": "text"
      },
      "cell_type": "markdown",
      "source": [
        "And brightness and sharpness."
      ]
    },
    {
      "metadata": {
        "id": "s5YB4rjWqiMJ",
        "colab_type": "code",
        "colab": {
          "autoexec": {
            "startup": false,
            "wait_interval": 0
          }
        }
      },
      "cell_type": "code",
      "source": [
        "brightness = ImageEnhance.Brightness(image)\n",
        "image = brightness.enhance(1.1)\n",
        "\n",
        "display(image)"
      ],
      "execution_count": 0,
      "outputs": []
    },
    {
      "metadata": {
        "id": "XdS_Gdkzq2w6",
        "colab_type": "code",
        "colab": {
          "autoexec": {
            "startup": false,
            "wait_interval": 0
          }
        }
      },
      "cell_type": "code",
      "source": [
        "sharpness = ImageEnhance.Sharpness(image)\n",
        "image = sharpness.enhance(1.2)\n",
        "\n",
        "display(image)"
      ],
      "execution_count": 0,
      "outputs": []
    },
    {
      "metadata": {
        "id": "djc4oiIFtkKO",
        "colab_type": "text"
      },
      "cell_type": "markdown",
      "source": [
        "There are a whole lot more transformations we can make on images, please take a look at the [official documentation](https://pillow.readthedocs.io/en/5.1.x/) if you'd like to know more."
      ]
    }
  ]
}